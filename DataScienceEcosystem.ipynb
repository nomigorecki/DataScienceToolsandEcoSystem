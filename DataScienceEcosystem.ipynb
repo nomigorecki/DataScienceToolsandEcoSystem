{
 "cells": [
  {
   "cell_type": "markdown",
   "id": "5baa722e",
   "metadata": {},
   "source": [
    "# Data Science Tools and Ecosystem"
   ]
  },
  {
   "cell_type": "markdown",
   "id": "cc11d512",
   "metadata": {},
   "source": [
    "In this notebook, Data Science Tools and Ecosystem are summarized"
   ]
  },
  {
   "cell_type": "markdown",
   "id": "36f5dc1e",
   "metadata": {},
   "source": [
    "__Objectives:__ List popular languages for Data Science\n",
    "1. R\n",
    "2. Python\n",
    "3. SQL"
   ]
  },
  {
   "cell_type": "markdown",
   "id": "c1f2089c",
   "metadata": {},
   "source": [
    "__Some of the popular languages that Data Scientists use are:__"
   ]
  },
  {
   "cell_type": "markdown",
   "id": "e1789e9d",
   "metadata": {},
   "source": [
    "1. Python\n",
    "2. SQL\n",
    "3. R"
   ]
  },
  {
   "cell_type": "markdown",
   "id": "b14ec8db",
   "metadata": {},
   "source": [
    "**Some of the commonly used libraries used by Data Scientists include:**"
   ]
  },
  {
   "cell_type": "markdown",
   "id": "0cfbb865",
   "metadata": {},
   "source": [
    "1. Pandas\n",
    "2. TensorFlow\n",
    "3. SciPy"
   ]
  },
  {
   "cell_type": "markdown",
   "id": "fda34c48",
   "metadata": {},
   "source": [
    "| __Data Science Tools__ |\n",
    "| ----------------------------- | \n",
    "| Jypyter Notebook |\n",
    "| RStudio |\n",
    "| Apache Spark |"
   ]
  },
  {
   "cell_type": "markdown",
   "id": "ea03e698",
   "metadata": {},
   "source": [
    "### Below are a few examples of evaluating arithmetic expressions in Python"
   ]
  },
  {
   "cell_type": "code",
   "execution_count": 6,
   "id": "0710c9bb",
   "metadata": {},
   "outputs": [
    {
     "name": "stdout",
     "output_type": "stream",
     "text": [
      "17\n"
     ]
    }
   ],
   "source": [
    "#This a simple arithmetic expression to mutiply then add integers\n",
    "\n",
    "answer = (3*4)+5\n",
    "print(answer)"
   ]
  },
  {
   "cell_type": "code",
   "execution_count": 7,
   "id": "db817c9a",
   "metadata": {},
   "outputs": [
    {
     "name": "stdout",
     "output_type": "stream",
     "text": [
      "3.3333333333333335\n"
     ]
    }
   ],
   "source": [
    "#This will convert 200 minutes to hours by diving by 60 \n",
    "\n",
    "answer = (200/60)\n",
    "print(answer)"
   ]
  },
  {
   "cell_type": "markdown",
   "id": "fa93fdbe",
   "metadata": {},
   "source": [
    "## Author\n",
    "Nomi E."
   ]
  },
  {
   "cell_type": "code",
   "execution_count": null,
   "id": "ce43c4c4",
   "metadata": {},
   "outputs": [],
   "source": []
  }
 ],
 "metadata": {
  "kernelspec": {
   "display_name": "Python 3 (ipykernel)",
   "language": "python",
   "name": "python3"
  },
  "language_info": {
   "codemirror_mode": {
    "name": "ipython",
    "version": 3
   },
   "file_extension": ".py",
   "mimetype": "text/x-python",
   "name": "python",
   "nbconvert_exporter": "python",
   "pygments_lexer": "ipython3",
   "version": "3.10.9"
  }
 },
 "nbformat": 4,
 "nbformat_minor": 5
}
